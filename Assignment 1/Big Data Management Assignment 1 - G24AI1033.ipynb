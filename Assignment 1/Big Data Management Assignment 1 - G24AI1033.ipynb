{
  "cells": [
    {
      "cell_type": "code",
      "execution_count": 1,
      "metadata": {
        "colab": {
          "base_uri": "https://localhost:8080/"
        },
        "id": "ctsnBUqsuldX",
        "outputId": "c191726e-da9c-4f26-b114-fb1355fc749b"
      },
      "outputs": [
        {
          "output_type": "stream",
          "name": "stdout",
          "text": [
            "Requirement already satisfied: pysqlite3 in /usr/local/lib/python3.11/dist-packages (0.5.4)\n"
          ]
        }
      ],
      "source": [
        "!pip install pysqlite3"
      ]
    },
    {
      "cell_type": "code",
      "execution_count": 2,
      "metadata": {
        "colab": {
          "base_uri": "https://localhost:8080/"
        },
        "id": "sUoSFGYCuzQ6",
        "outputId": "877493d9-7bba-4ec1-93aa-e7e8678cc0a5"
      },
      "outputs": [
        {
          "output_type": "stream",
          "name": "stdout",
          "text": [
            "(3, 37, 2)\n"
          ]
        }
      ],
      "source": [
        "from pysqlite3 import dbapi2 as sqlite3\n",
        "print(sqlite3.sqlite_version_info)"
      ]
    },
    {
      "cell_type": "code",
      "execution_count": 3,
      "metadata": {
        "id": "xBvixzetvDXm"
      },
      "outputs": [],
      "source": [
        "import pandas as pd\n",
        "from IPython.display import display, HTML"
      ]
    },
    {
      "cell_type": "code",
      "execution_count": 4,
      "metadata": {
        "id": "p5qxWYqEvK5z"
      },
      "outputs": [],
      "source": [
        "dbname = \"music_streaming_1.db\"\n",
        "\n",
        "def printSqlResults(cursor, tbl):\n",
        "  df=pd.DataFrame(cursor.fetchall(), columns=[i[0] for i in cursor.description])\n",
        "  display(HTML(\"<b><font color=Green>\"+tbl+\"</font></b>\"+df.to_html(index=False)))\n",
        "\n",
        "def runSql(caption, query):\n",
        "  conn = sqlite3.connect(dbname)\n",
        "  cursor=conn.cursor()\n",
        "  cursor.execute(query)\n",
        "  printSqlResults(cursor,caption)\n",
        "  conn.close()"
      ]
    },
    {
      "cell_type": "code",
      "execution_count": 5,
      "metadata": {
        "id": "wXo3al1YwXn4"
      },
      "outputs": [],
      "source": [
        "conn = sqlite3.connect(dbname)\n",
        "cursor = conn.cursor()\n",
        "\n",
        "cursor.execute(\"\"\"\n",
        "      CREATE TABLE IF NOT EXISTS Users (\n",
        "        user_id INTEGER PRIMARY KEY,\n",
        "        name VARCHAR(100) NOT NULL,\n",
        "        email VARCHAR(100) NOT NULL UNIQUE\n",
        "      );\n",
        "\"\"\")\n",
        "\n",
        "cursor.execute(\"\"\"\n",
        "  CREATE TABLE IF NOT EXISTS Songs (\n",
        "    song_id INTEGER PRIMARY KEY,\n",
        "    title VARCHAR(100) NOT NULL,\n",
        "    artist VARCHAR(100) NOT NULL,\n",
        "    genre VARCHAR(100)\n",
        "  );\n",
        "\"\"\"\n",
        ")\n",
        "\n",
        "cursor.execute(\"\"\"\n",
        "    CREATE TABLE IF NOT EXISTS Listens (\n",
        "      listen_id INTEGER PRIMARY KEY,\n",
        "      user_id INTEGER NOT NULL,\n",
        "      song_id INTEGER NOT NULL,\n",
        "      rating FLOAT,\n",
        "      listen_time TIMESTAMP,\n",
        "      FOREIGN KEY (user_id) REFERENCES Users(user_id),\n",
        "      FOREIGN KEY (song_id) REFERENCES Songs(song_id)\n",
        "    );\n",
        "\"\"\")\n",
        "\n",
        "cursor.execute(\"\"\"\n",
        "  CREATE TABLE IF NOT EXISTS Recommendations (\n",
        "      recommendation_id INTEGER NOT NULL,\n",
        "      recommendation_time TIMESTAMP,\n",
        "      user_id INTEGER NOT NULL,\n",
        "      song_id INTEGER NOT NULL,\n",
        "      FOREIGN KEY (user_id) REFERENCES Users(user_id),\n",
        "      FOREIGN KEY (song_id) REFERENCES Songs(song_id)\n",
        "  );\n",
        "\"\"\")\n",
        "\n",
        "conn.commit()\n",
        "conn.close()"
      ]
    },
    {
      "cell_type": "code",
      "execution_count": 6,
      "metadata": {
        "colab": {
          "base_uri": "https://localhost:8080/",
          "height": 890
        },
        "id": "6JzFr1NVzC03",
        "outputId": "fd355686-13c0-42e8-afb8-1f704e647de6"
      },
      "outputs": [
        {
          "output_type": "display_data",
          "data": {
            "text/plain": [
              "<IPython.core.display.HTML object>"
            ],
            "text/html": [
              "<b><font color=Green>Users</font></b><table border=\"1\" class=\"dataframe\">\n",
              "  <thead>\n",
              "    <tr style=\"text-align: right;\">\n",
              "      <th>user_id</th>\n",
              "      <th>name</th>\n",
              "      <th>email</th>\n",
              "    </tr>\n",
              "  </thead>\n",
              "  <tbody>\n",
              "    <tr>\n",
              "      <td>1</td>\n",
              "      <td>Mickey</td>\n",
              "      <td>mickey@example.com</td>\n",
              "    </tr>\n",
              "    <tr>\n",
              "      <td>2</td>\n",
              "      <td>Minnie</td>\n",
              "      <td>minnie@example.com</td>\n",
              "    </tr>\n",
              "    <tr>\n",
              "      <td>3</td>\n",
              "      <td>Daffy</td>\n",
              "      <td>daffy@example.com</td>\n",
              "    </tr>\n",
              "    <tr>\n",
              "      <td>4</td>\n",
              "      <td>Pluto</td>\n",
              "      <td>pluto@example.com</td>\n",
              "    </tr>\n",
              "  </tbody>\n",
              "</table>"
            ]
          },
          "metadata": {}
        },
        {
          "output_type": "display_data",
          "data": {
            "text/plain": [
              "<IPython.core.display.HTML object>"
            ],
            "text/html": [
              "<b><font color=Green>Songs</font></b><table border=\"1\" class=\"dataframe\">\n",
              "  <thead>\n",
              "    <tr style=\"text-align: right;\">\n",
              "      <th>song_id</th>\n",
              "      <th>title</th>\n",
              "      <th>artist</th>\n",
              "      <th>genre</th>\n",
              "    </tr>\n",
              "  </thead>\n",
              "  <tbody>\n",
              "    <tr>\n",
              "      <td>1</td>\n",
              "      <td>Evermore</td>\n",
              "      <td>Taylor Swift</td>\n",
              "      <td>Pop</td>\n",
              "    </tr>\n",
              "    <tr>\n",
              "      <td>2</td>\n",
              "      <td>Willow</td>\n",
              "      <td>Taylor Swift</td>\n",
              "      <td>Pop</td>\n",
              "    </tr>\n",
              "    <tr>\n",
              "      <td>3</td>\n",
              "      <td>Shape of You</td>\n",
              "      <td>Ed Sheeran</td>\n",
              "      <td>Rock</td>\n",
              "    </tr>\n",
              "    <tr>\n",
              "      <td>4</td>\n",
              "      <td>Photograph</td>\n",
              "      <td>Ed Sheeran</td>\n",
              "      <td>Rock</td>\n",
              "    </tr>\n",
              "    <tr>\n",
              "      <td>5</td>\n",
              "      <td>Shivers</td>\n",
              "      <td>Ed Sheeran</td>\n",
              "      <td>Rock</td>\n",
              "    </tr>\n",
              "    <tr>\n",
              "      <td>6</td>\n",
              "      <td>Yesterday</td>\n",
              "      <td>Beatles</td>\n",
              "      <td>Classic</td>\n",
              "    </tr>\n",
              "    <tr>\n",
              "      <td>7</td>\n",
              "      <td>Yellow Submarine</td>\n",
              "      <td>Beatles</td>\n",
              "      <td>Classic</td>\n",
              "    </tr>\n",
              "    <tr>\n",
              "      <td>8</td>\n",
              "      <td>Hey Jude</td>\n",
              "      <td>Beatles</td>\n",
              "      <td>Classic</td>\n",
              "    </tr>\n",
              "    <tr>\n",
              "      <td>9</td>\n",
              "      <td>Bad Blood</td>\n",
              "      <td>Taylor Swift</td>\n",
              "      <td>Rock</td>\n",
              "    </tr>\n",
              "    <tr>\n",
              "      <td>10</td>\n",
              "      <td>DJ Mix</td>\n",
              "      <td>DJ</td>\n",
              "      <td>None</td>\n",
              "    </tr>\n",
              "  </tbody>\n",
              "</table>"
            ]
          },
          "metadata": {}
        },
        {
          "output_type": "display_data",
          "data": {
            "text/plain": [
              "<IPython.core.display.HTML object>"
            ],
            "text/html": [
              "<b><font color=Green>Listens</font></b><table border=\"1\" class=\"dataframe\">\n",
              "  <thead>\n",
              "    <tr style=\"text-align: right;\">\n",
              "      <th>listen_id</th>\n",
              "      <th>user_id</th>\n",
              "      <th>song_id</th>\n",
              "      <th>rating</th>\n",
              "      <th>listen_time</th>\n",
              "    </tr>\n",
              "  </thead>\n",
              "  <tbody>\n",
              "    <tr>\n",
              "      <td>1</td>\n",
              "      <td>1</td>\n",
              "      <td>1</td>\n",
              "      <td>4.5</td>\n",
              "      <td>2024-08-30 14:35:00</td>\n",
              "    </tr>\n",
              "    <tr>\n",
              "      <td>2</td>\n",
              "      <td>1</td>\n",
              "      <td>2</td>\n",
              "      <td>4.2</td>\n",
              "      <td>None</td>\n",
              "    </tr>\n",
              "    <tr>\n",
              "      <td>3</td>\n",
              "      <td>1</td>\n",
              "      <td>6</td>\n",
              "      <td>3.9</td>\n",
              "      <td>2024-08-29 10:15:00</td>\n",
              "    </tr>\n",
              "    <tr>\n",
              "      <td>4</td>\n",
              "      <td>2</td>\n",
              "      <td>2</td>\n",
              "      <td>4.7</td>\n",
              "      <td>None</td>\n",
              "    </tr>\n",
              "    <tr>\n",
              "      <td>5</td>\n",
              "      <td>2</td>\n",
              "      <td>7</td>\n",
              "      <td>4.6</td>\n",
              "      <td>2024-08-28 09:20:00</td>\n",
              "    </tr>\n",
              "    <tr>\n",
              "      <td>6</td>\n",
              "      <td>2</td>\n",
              "      <td>8</td>\n",
              "      <td>3.9</td>\n",
              "      <td>2024-08-27 16:45:00</td>\n",
              "    </tr>\n",
              "    <tr>\n",
              "      <td>7</td>\n",
              "      <td>3</td>\n",
              "      <td>1</td>\n",
              "      <td>2.9</td>\n",
              "      <td>None</td>\n",
              "    </tr>\n",
              "    <tr>\n",
              "      <td>8</td>\n",
              "      <td>3</td>\n",
              "      <td>2</td>\n",
              "      <td>4.9</td>\n",
              "      <td>2024-08-26 12:30:00</td>\n",
              "    </tr>\n",
              "    <tr>\n",
              "      <td>9</td>\n",
              "      <td>3</td>\n",
              "      <td>6</td>\n",
              "      <td>NaN</td>\n",
              "      <td>None</td>\n",
              "    </tr>\n",
              "  </tbody>\n",
              "</table>"
            ]
          },
          "metadata": {}
        }
      ],
      "source": [
        "conn = sqlite3.connect(dbname)\n",
        "sqlite3.enable_callback_tracebacks(True)\n",
        "\n",
        "cursor=conn.cursor()\n",
        "cursor.execute(\"delete from Songs;\")\n",
        "cursor.execute(\"delete from Users;\")\n",
        "cursor.execute(\"delete from Listens;\")\n",
        "cursor.execute(\"delete from Recommendations;\")\n",
        "\n",
        "#Insert data into the table\n",
        "\n",
        "cursor.execute(\"\"\"\n",
        "  INSERT INTO Users (user_id, name, email)\n",
        "  VALUES\n",
        "    (1, 'Mickey', 'mickey@example.com'),\n",
        "    (2, 'Minnie', 'minnie@example.com'),\n",
        "    (3, 'Daffy', 'daffy@example.com'),\n",
        "    (4, 'Pluto', 'pluto@example.com');\n",
        "\"\"\")\n",
        "# Insert sample songs from Taylor Swift, Ed Sheeran, Beatles\n",
        "cursor.execute(\"\"\"\n",
        "INSERT INTO Songs (song_id, title, artist, genre)\n",
        "VALUES\n",
        "    (1, 'Evermore', 'Taylor Swift', 'Pop'),\n",
        "    (2, 'Willow', 'Taylor Swift', 'Pop'),\n",
        "    (3, 'Shape of You', 'Ed Sheeran', 'Rock'),\n",
        "    (4, 'Photograph', 'Ed Sheeran', 'Rock'),\n",
        "    (5, 'Shivers', 'Ed Sheeran', 'Rock'),\n",
        "    (6, 'Yesterday', 'Beatles', 'Classic'),\n",
        "    (7, 'Yellow Submarine', 'Beatles', 'Classic'),\n",
        "    (8, 'Hey Jude', 'Beatles', 'Classic'),\n",
        "    (9, 'Bad Blood', 'Taylor Swift', 'Rock'),\n",
        "    (10, 'DJ Mix', 'DJ', NULL);\n",
        "\"\"\")\n",
        "\n",
        "# Insert sample listens\n",
        "cursor.execute(\"\"\"\n",
        "INSERT INTO Listens (listen_id, user_id, song_id, rating, listen_time)\n",
        "VALUES\n",
        "    (1, 1, 1, 4.5, '2024-08-30 14:35:00'),\n",
        "    (2, 1, 2, 4.2, NULL),\n",
        "    (3, 1, 6, 3.9, '2024-08-29 10:15:00'),\n",
        "    (4, 2, 2, 4.7, NULL),\n",
        "    (5, 2, 7, 4.6, '2024-08-28 09:20:00'),\n",
        "    (6, 2, 8, 3.9, '2024-08-27 16:45:00'),\n",
        "    (7, 3, 1, 2.9, NULL),\n",
        "    (8, 3, 2, 4.9, '2024-08-26 12:30:00'),\n",
        "    (9, 3, 6, NULL, NULL);\n",
        "\"\"\")\n",
        "\n",
        "# Commit changes and close the connection\n",
        "conn.commit()\n",
        "conn.close()\n",
        "\n",
        "runSql('Users', \"select * from Users;\")\n",
        "runSql('Songs', \"select * from Songs;\")\n",
        "runSql('Listens', \"select * from Listens;\")"
      ]
    },
    {
      "cell_type": "code",
      "execution_count": 7,
      "metadata": {
        "colab": {
          "base_uri": "https://localhost:8080/",
          "height": 162
        },
        "id": "XB-ive_HXK5v",
        "outputId": "2d94209f-e0a8-4800-e0df-d0d2b30c8228"
      },
      "outputs": [
        {
          "output_type": "display_data",
          "data": {
            "text/plain": [
              "<IPython.core.display.HTML object>"
            ],
            "text/html": [
              "<b><font color=Green>Classic Query</font></b><table border=\"1\" class=\"dataframe\">\n",
              "  <thead>\n",
              "    <tr style=\"text-align: right;\">\n",
              "      <th>title</th>\n",
              "      <th>artist</th>\n",
              "    </tr>\n",
              "  </thead>\n",
              "  <tbody>\n",
              "    <tr>\n",
              "      <td>Yesterday</td>\n",
              "      <td>Beatles</td>\n",
              "    </tr>\n",
              "    <tr>\n",
              "      <td>Yellow Submarine</td>\n",
              "      <td>Beatles</td>\n",
              "    </tr>\n",
              "    <tr>\n",
              "      <td>Hey Jude</td>\n",
              "      <td>Beatles</td>\n",
              "    </tr>\n",
              "  </tbody>\n",
              "</table>"
            ]
          },
          "metadata": {}
        }
      ],
      "source": [
        "qry_classic_songs = \"\"\"\n",
        "SELECT Songs.title, Songs.artist FROM Songs\n",
        "WHERE Songs.genre= 'Classic';\n",
        "\"\"\"\n",
        "runSql('Classic Query', qry_classic_songs)"
      ]
    },
    {
      "cell_type": "code",
      "execution_count": 8,
      "metadata": {
        "colab": {
          "base_uri": "https://localhost:8080/",
          "height": 130
        },
        "id": "pO8Ok1MuX1XH",
        "outputId": "29f71307-ecf3-462e-f98b-7fd7c4deef48"
      },
      "outputs": [
        {
          "output_type": "display_data",
          "data": {
            "text/plain": [
              "<IPython.core.display.HTML object>"
            ],
            "text/html": [
              "<b><font color=Green>Classic Query with songs like Ye..</font></b><table border=\"1\" class=\"dataframe\">\n",
              "  <thead>\n",
              "    <tr style=\"text-align: right;\">\n",
              "      <th>title</th>\n",
              "      <th>artist</th>\n",
              "    </tr>\n",
              "  </thead>\n",
              "  <tbody>\n",
              "    <tr>\n",
              "      <td>Yesterday</td>\n",
              "      <td>Beatles</td>\n",
              "    </tr>\n",
              "    <tr>\n",
              "      <td>Yellow Submarine</td>\n",
              "      <td>Beatles</td>\n",
              "    </tr>\n",
              "  </tbody>\n",
              "</table>"
            ]
          },
          "metadata": {}
        }
      ],
      "source": [
        "#Find titles and artists if songs in Classic Genre with titles starting like Ye...\n",
        "\n",
        "qry_classic_songs2 = \"\"\"\n",
        "SELECT Songs.title, Songs.artist FROM Songs\n",
        "WHERE Songs.genre= 'Classic' AND\n",
        "  Songs.title LIKE 'Ye%';\n",
        "\"\"\"\n",
        "runSql('Classic Query with songs like Ye..', qry_classic_songs2)"
      ]
    },
    {
      "cell_type": "code",
      "execution_count": 9,
      "metadata": {
        "colab": {
          "base_uri": "https://localhost:8080/",
          "height": 381
        },
        "id": "4ba6XEMhYgPP",
        "outputId": "f4e68dc0-8847-435e-9598-7c89bfb3716e"
      },
      "outputs": [
        {
          "output_type": "display_data",
          "data": {
            "text/plain": [
              "<IPython.core.display.HTML object>"
            ],
            "text/html": [
              "<b><font color=Green>All genres</font></b><table border=\"1\" class=\"dataframe\">\n",
              "  <thead>\n",
              "    <tr style=\"text-align: right;\">\n",
              "      <th>genre</th>\n",
              "    </tr>\n",
              "  </thead>\n",
              "  <tbody>\n",
              "    <tr>\n",
              "      <td>Pop</td>\n",
              "    </tr>\n",
              "    <tr>\n",
              "      <td>Pop</td>\n",
              "    </tr>\n",
              "    <tr>\n",
              "      <td>Rock</td>\n",
              "    </tr>\n",
              "    <tr>\n",
              "      <td>Rock</td>\n",
              "    </tr>\n",
              "    <tr>\n",
              "      <td>Rock</td>\n",
              "    </tr>\n",
              "    <tr>\n",
              "      <td>Classic</td>\n",
              "    </tr>\n",
              "    <tr>\n",
              "      <td>Classic</td>\n",
              "    </tr>\n",
              "    <tr>\n",
              "      <td>Classic</td>\n",
              "    </tr>\n",
              "    <tr>\n",
              "      <td>Rock</td>\n",
              "    </tr>\n",
              "    <tr>\n",
              "      <td>None</td>\n",
              "    </tr>\n",
              "  </tbody>\n",
              "</table>"
            ]
          },
          "metadata": {}
        }
      ],
      "source": [
        "#List all the genres in the Songs table\n",
        "qry_genres = \"\"\"\n",
        "SELECT genre from Songs;\n",
        "\"\"\"\n",
        "runSql('All genres', qry_genres)"
      ]
    },
    {
      "cell_type": "code",
      "execution_count": 10,
      "metadata": {
        "colab": {
          "base_uri": "https://localhost:8080/",
          "height": 193
        },
        "id": "FFirMlWqYzEg",
        "outputId": "f253b8df-5ad5-4a61-a350-b935752dbc98"
      },
      "outputs": [
        {
          "output_type": "display_data",
          "data": {
            "text/plain": [
              "<IPython.core.display.HTML object>"
            ],
            "text/html": [
              "<b><font color=Green>Distinct Genres</font></b><table border=\"1\" class=\"dataframe\">\n",
              "  <thead>\n",
              "    <tr style=\"text-align: right;\">\n",
              "      <th>genre</th>\n",
              "    </tr>\n",
              "  </thead>\n",
              "  <tbody>\n",
              "    <tr>\n",
              "      <td>Pop</td>\n",
              "    </tr>\n",
              "    <tr>\n",
              "      <td>Rock</td>\n",
              "    </tr>\n",
              "    <tr>\n",
              "      <td>Classic</td>\n",
              "    </tr>\n",
              "    <tr>\n",
              "      <td>None</td>\n",
              "    </tr>\n",
              "  </tbody>\n",
              "</table>"
            ]
          },
          "metadata": {}
        }
      ],
      "source": [
        "#Find the unique genres from the Songs table\n",
        "\n",
        "qry_distinct = \"\"\"\n",
        "SELECT DISTINCT genre\n",
        "FROM Songs;\n",
        "\"\"\"\n",
        "\n",
        "runSql('Distinct Genres', qry_distinct)"
      ]
    },
    {
      "cell_type": "code",
      "execution_count": 11,
      "metadata": {
        "colab": {
          "base_uri": "https://localhost:8080/",
          "height": 130
        },
        "id": "AoxzZqg4ZLBR",
        "outputId": "7664dc00-5850-48be-9044-02534fe3b5c9"
      },
      "outputs": [
        {
          "output_type": "display_data",
          "data": {
            "text/plain": [
              "<IPython.core.display.HTML object>"
            ],
            "text/html": [
              "<b><font color=Green>Count of songs by Taylor Swift in different genres</font></b><table border=\"1\" class=\"dataframe\">\n",
              "  <thead>\n",
              "    <tr style=\"text-align: right;\">\n",
              "      <th>artist</th>\n",
              "      <th>genre</th>\n",
              "      <th>num_songs</th>\n",
              "    </tr>\n",
              "  </thead>\n",
              "  <tbody>\n",
              "    <tr>\n",
              "      <td>Taylor Swift</td>\n",
              "      <td>Pop</td>\n",
              "      <td>2</td>\n",
              "    </tr>\n",
              "    <tr>\n",
              "      <td>Taylor Swift</td>\n",
              "      <td>Rock</td>\n",
              "      <td>1</td>\n",
              "    </tr>\n",
              "  </tbody>\n",
              "</table>"
            ]
          },
          "metadata": {}
        }
      ],
      "source": [
        "#Find the number of songs by Taylor Swift in different genres\n",
        "\n",
        "qry_taylor_count=\"\"\"\n",
        "SELECT artist, genre,count(*) as num_songs\n",
        "FROM Songs\n",
        "WHERE Songs.artist='Taylor Swift'\n",
        "GROUP BY artist, genre;\n",
        "\"\"\"\n",
        "runSql('Count of songs by Taylor Swift in different genres', qry_taylor_count)"
      ]
    },
    {
      "cell_type": "code",
      "execution_count": 12,
      "metadata": {
        "colab": {
          "base_uri": "https://localhost:8080/",
          "height": 225
        },
        "id": "2I0ryfrOaQQe",
        "outputId": "50aa5789-9046-4d88-db14-a9b3f873d2b1"
      },
      "outputs": [
        {
          "output_type": "display_data",
          "data": {
            "text/plain": [
              "<IPython.core.display.HTML object>"
            ],
            "text/html": [
              "<b><font color=Green>Count of songs by Taylor Swift in different genres</font></b><table border=\"1\" class=\"dataframe\">\n",
              "  <thead>\n",
              "    <tr style=\"text-align: right;\">\n",
              "      <th>artist</th>\n",
              "      <th>genre</th>\n",
              "      <th>num_songs</th>\n",
              "    </tr>\n",
              "  </thead>\n",
              "  <tbody>\n",
              "    <tr>\n",
              "      <td>Beatles</td>\n",
              "      <td>Classic</td>\n",
              "      <td>3</td>\n",
              "    </tr>\n",
              "    <tr>\n",
              "      <td>DJ</td>\n",
              "      <td>None</td>\n",
              "      <td>1</td>\n",
              "    </tr>\n",
              "    <tr>\n",
              "      <td>Ed Sheeran</td>\n",
              "      <td>Rock</td>\n",
              "      <td>3</td>\n",
              "    </tr>\n",
              "    <tr>\n",
              "      <td>Taylor Swift</td>\n",
              "      <td>Pop</td>\n",
              "      <td>2</td>\n",
              "    </tr>\n",
              "    <tr>\n",
              "      <td>Taylor Swift</td>\n",
              "      <td>Rock</td>\n",
              "      <td>1</td>\n",
              "    </tr>\n",
              "  </tbody>\n",
              "</table>"
            ]
          },
          "metadata": {}
        }
      ],
      "source": [
        "#Find the number of songs by all artists in different genres\n",
        "\n",
        "qry_artist_count=\"\"\"\n",
        "SELECT artist, genre,count(*) as num_songs\n",
        "FROM Songs\n",
        "GROUP BY artist, genre;\n",
        "\"\"\"\n",
        "runSql('Count of songs by Taylor Swift in different genres', qry_artist_count)\n"
      ]
    },
    {
      "cell_type": "code",
      "execution_count": 13,
      "metadata": {
        "colab": {
          "base_uri": "https://localhost:8080/",
          "height": 507
        },
        "id": "JYtU1XpWarvh",
        "outputId": "8a894806-41f1-4e3c-af82-4c31c723a249"
      },
      "outputs": [
        {
          "output_type": "display_data",
          "data": {
            "text/plain": [
              "<IPython.core.display.HTML object>"
            ],
            "text/html": [
              "<b><font color=Green>One Large Table</font></b><table border=\"1\" class=\"dataframe\">\n",
              "  <thead>\n",
              "    <tr style=\"text-align: right;\">\n",
              "      <th>song_id</th>\n",
              "      <th>title</th>\n",
              "      <th>artist</th>\n",
              "      <th>genre</th>\n",
              "      <th>listen_id</th>\n",
              "      <th>user_id</th>\n",
              "      <th>song_id</th>\n",
              "      <th>rating</th>\n",
              "      <th>listen_time</th>\n",
              "      <th>user_id</th>\n",
              "      <th>name</th>\n",
              "      <th>email</th>\n",
              "    </tr>\n",
              "  </thead>\n",
              "  <tbody>\n",
              "    <tr>\n",
              "      <td>1</td>\n",
              "      <td>Evermore</td>\n",
              "      <td>Taylor Swift</td>\n",
              "      <td>Pop</td>\n",
              "      <td>1.0</td>\n",
              "      <td>1.0</td>\n",
              "      <td>1.0</td>\n",
              "      <td>4.5</td>\n",
              "      <td>2024-08-30 14:35:00</td>\n",
              "      <td>1.0</td>\n",
              "      <td>Mickey</td>\n",
              "      <td>mickey@example.com</td>\n",
              "    </tr>\n",
              "    <tr>\n",
              "      <td>1</td>\n",
              "      <td>Evermore</td>\n",
              "      <td>Taylor Swift</td>\n",
              "      <td>Pop</td>\n",
              "      <td>7.0</td>\n",
              "      <td>3.0</td>\n",
              "      <td>1.0</td>\n",
              "      <td>2.9</td>\n",
              "      <td>None</td>\n",
              "      <td>3.0</td>\n",
              "      <td>Daffy</td>\n",
              "      <td>daffy@example.com</td>\n",
              "    </tr>\n",
              "    <tr>\n",
              "      <td>2</td>\n",
              "      <td>Willow</td>\n",
              "      <td>Taylor Swift</td>\n",
              "      <td>Pop</td>\n",
              "      <td>2.0</td>\n",
              "      <td>1.0</td>\n",
              "      <td>2.0</td>\n",
              "      <td>4.2</td>\n",
              "      <td>None</td>\n",
              "      <td>1.0</td>\n",
              "      <td>Mickey</td>\n",
              "      <td>mickey@example.com</td>\n",
              "    </tr>\n",
              "    <tr>\n",
              "      <td>2</td>\n",
              "      <td>Willow</td>\n",
              "      <td>Taylor Swift</td>\n",
              "      <td>Pop</td>\n",
              "      <td>4.0</td>\n",
              "      <td>2.0</td>\n",
              "      <td>2.0</td>\n",
              "      <td>4.7</td>\n",
              "      <td>None</td>\n",
              "      <td>2.0</td>\n",
              "      <td>Minnie</td>\n",
              "      <td>minnie@example.com</td>\n",
              "    </tr>\n",
              "    <tr>\n",
              "      <td>2</td>\n",
              "      <td>Willow</td>\n",
              "      <td>Taylor Swift</td>\n",
              "      <td>Pop</td>\n",
              "      <td>8.0</td>\n",
              "      <td>3.0</td>\n",
              "      <td>2.0</td>\n",
              "      <td>4.9</td>\n",
              "      <td>2024-08-26 12:30:00</td>\n",
              "      <td>3.0</td>\n",
              "      <td>Daffy</td>\n",
              "      <td>daffy@example.com</td>\n",
              "    </tr>\n",
              "    <tr>\n",
              "      <td>3</td>\n",
              "      <td>Shape of You</td>\n",
              "      <td>Ed Sheeran</td>\n",
              "      <td>Rock</td>\n",
              "      <td>NaN</td>\n",
              "      <td>NaN</td>\n",
              "      <td>NaN</td>\n",
              "      <td>NaN</td>\n",
              "      <td>None</td>\n",
              "      <td>NaN</td>\n",
              "      <td>None</td>\n",
              "      <td>None</td>\n",
              "    </tr>\n",
              "    <tr>\n",
              "      <td>4</td>\n",
              "      <td>Photograph</td>\n",
              "      <td>Ed Sheeran</td>\n",
              "      <td>Rock</td>\n",
              "      <td>NaN</td>\n",
              "      <td>NaN</td>\n",
              "      <td>NaN</td>\n",
              "      <td>NaN</td>\n",
              "      <td>None</td>\n",
              "      <td>NaN</td>\n",
              "      <td>None</td>\n",
              "      <td>None</td>\n",
              "    </tr>\n",
              "    <tr>\n",
              "      <td>5</td>\n",
              "      <td>Shivers</td>\n",
              "      <td>Ed Sheeran</td>\n",
              "      <td>Rock</td>\n",
              "      <td>NaN</td>\n",
              "      <td>NaN</td>\n",
              "      <td>NaN</td>\n",
              "      <td>NaN</td>\n",
              "      <td>None</td>\n",
              "      <td>NaN</td>\n",
              "      <td>None</td>\n",
              "      <td>None</td>\n",
              "    </tr>\n",
              "    <tr>\n",
              "      <td>6</td>\n",
              "      <td>Yesterday</td>\n",
              "      <td>Beatles</td>\n",
              "      <td>Classic</td>\n",
              "      <td>3.0</td>\n",
              "      <td>1.0</td>\n",
              "      <td>6.0</td>\n",
              "      <td>3.9</td>\n",
              "      <td>2024-08-29 10:15:00</td>\n",
              "      <td>1.0</td>\n",
              "      <td>Mickey</td>\n",
              "      <td>mickey@example.com</td>\n",
              "    </tr>\n",
              "    <tr>\n",
              "      <td>6</td>\n",
              "      <td>Yesterday</td>\n",
              "      <td>Beatles</td>\n",
              "      <td>Classic</td>\n",
              "      <td>9.0</td>\n",
              "      <td>3.0</td>\n",
              "      <td>6.0</td>\n",
              "      <td>NaN</td>\n",
              "      <td>None</td>\n",
              "      <td>3.0</td>\n",
              "      <td>Daffy</td>\n",
              "      <td>daffy@example.com</td>\n",
              "    </tr>\n",
              "    <tr>\n",
              "      <td>7</td>\n",
              "      <td>Yellow Submarine</td>\n",
              "      <td>Beatles</td>\n",
              "      <td>Classic</td>\n",
              "      <td>5.0</td>\n",
              "      <td>2.0</td>\n",
              "      <td>7.0</td>\n",
              "      <td>4.6</td>\n",
              "      <td>2024-08-28 09:20:00</td>\n",
              "      <td>2.0</td>\n",
              "      <td>Minnie</td>\n",
              "      <td>minnie@example.com</td>\n",
              "    </tr>\n",
              "    <tr>\n",
              "      <td>8</td>\n",
              "      <td>Hey Jude</td>\n",
              "      <td>Beatles</td>\n",
              "      <td>Classic</td>\n",
              "      <td>6.0</td>\n",
              "      <td>2.0</td>\n",
              "      <td>8.0</td>\n",
              "      <td>3.9</td>\n",
              "      <td>2024-08-27 16:45:00</td>\n",
              "      <td>2.0</td>\n",
              "      <td>Minnie</td>\n",
              "      <td>minnie@example.com</td>\n",
              "    </tr>\n",
              "    <tr>\n",
              "      <td>9</td>\n",
              "      <td>Bad Blood</td>\n",
              "      <td>Taylor Swift</td>\n",
              "      <td>Rock</td>\n",
              "      <td>NaN</td>\n",
              "      <td>NaN</td>\n",
              "      <td>NaN</td>\n",
              "      <td>NaN</td>\n",
              "      <td>None</td>\n",
              "      <td>NaN</td>\n",
              "      <td>None</td>\n",
              "      <td>None</td>\n",
              "    </tr>\n",
              "    <tr>\n",
              "      <td>10</td>\n",
              "      <td>DJ Mix</td>\n",
              "      <td>DJ</td>\n",
              "      <td>None</td>\n",
              "      <td>NaN</td>\n",
              "      <td>NaN</td>\n",
              "      <td>NaN</td>\n",
              "      <td>NaN</td>\n",
              "      <td>None</td>\n",
              "      <td>NaN</td>\n",
              "      <td>None</td>\n",
              "      <td>None</td>\n",
              "    </tr>\n",
              "  </tbody>\n",
              "</table>"
            ]
          },
          "metadata": {}
        }
      ],
      "source": [
        "#Create one single table for songs and listens. Redundancies are allowed\n",
        "\n",
        "qry_large_table = \"\"\"\n",
        "SELECT * FROM Songs\n",
        "LEFT JOIN Listens ON Songs.song_id=Listens.song_id\n",
        "LEFT JOIN Users ON Listens.user_id=Users.user_id;\n",
        "\"\"\"\n",
        "runSql('One Large Table',qry_large_table)"
      ]
    },
    {
      "cell_type": "code",
      "execution_count": 14,
      "metadata": {
        "colab": {
          "base_uri": "https://localhost:8080/",
          "height": 338
        },
        "id": "KJUfbAzxcR8v",
        "outputId": "97e15129-f3c3-4fe8-cb1d-b0268fd7216e"
      },
      "outputs": [
        {
          "output_type": "display_data",
          "data": {
            "text/plain": [
              "<IPython.core.display.HTML object>"
            ],
            "text/html": [
              "<b><font color=Green>Highly Rated Songs</font></b><table border=\"1\" class=\"dataframe\">\n",
              "  <thead>\n",
              "    <tr style=\"text-align: right;\">\n",
              "      <th>song_id</th>\n",
              "      <th>title</th>\n",
              "      <th>artist</th>\n",
              "      <th>rating</th>\n",
              "    </tr>\n",
              "  </thead>\n",
              "  <tbody>\n",
              "    <tr>\n",
              "      <td>2</td>\n",
              "      <td>Willow</td>\n",
              "      <td>Taylor Swift</td>\n",
              "      <td>4.7</td>\n",
              "    </tr>\n",
              "    <tr>\n",
              "      <td>2</td>\n",
              "      <td>Willow</td>\n",
              "      <td>Taylor Swift</td>\n",
              "      <td>4.9</td>\n",
              "    </tr>\n",
              "  </tbody>\n",
              "</table>"
            ]
          },
          "metadata": {}
        },
        {
          "output_type": "display_data",
          "data": {
            "text/plain": [
              "<IPython.core.display.HTML object>"
            ],
            "text/html": [
              "<b><font color=Green>Highly Rated Songs</font></b><table border=\"1\" class=\"dataframe\">\n",
              "  <thead>\n",
              "    <tr style=\"text-align: right;\">\n",
              "      <th>song_id</th>\n",
              "      <th>title</th>\n",
              "      <th>artist</th>\n",
              "      <th>AVG(Listens.rating)</th>\n",
              "    </tr>\n",
              "  </thead>\n",
              "  <tbody>\n",
              "    <tr>\n",
              "      <td>1</td>\n",
              "      <td>Evermore</td>\n",
              "      <td>Taylor Swift</td>\n",
              "      <td>3.7</td>\n",
              "    </tr>\n",
              "    <tr>\n",
              "      <td>2</td>\n",
              "      <td>Willow</td>\n",
              "      <td>Taylor Swift</td>\n",
              "      <td>4.6</td>\n",
              "    </tr>\n",
              "    <tr>\n",
              "      <td>6</td>\n",
              "      <td>Yesterday</td>\n",
              "      <td>Beatles</td>\n",
              "      <td>3.9</td>\n",
              "    </tr>\n",
              "    <tr>\n",
              "      <td>7</td>\n",
              "      <td>Yellow Submarine</td>\n",
              "      <td>Beatles</td>\n",
              "      <td>4.6</td>\n",
              "    </tr>\n",
              "    <tr>\n",
              "      <td>8</td>\n",
              "      <td>Hey Jude</td>\n",
              "      <td>Beatles</td>\n",
              "      <td>3.9</td>\n",
              "    </tr>\n",
              "  </tbody>\n",
              "</table>"
            ]
          },
          "metadata": {}
        }
      ],
      "source": [
        "#Find the Highly Rates Songs. Consider Rating above 4.6 as highly rated\n",
        "\n",
        "qry_rating_songs=\"\"\"\n",
        "SELECT Songs.song_id, Songs.title, Songs.artist, Listens.rating\n",
        "FROM Songs\n",
        "JOIN Listens ON Songs.song_id = Listens.song_id\n",
        "WHERE Listens.rating > 4.6\n",
        "\"\"\"\n",
        "runSql('Highly Rated Songs',qry_rating_songs)\n",
        "\n",
        "#Find tha average rating of every song\n",
        "\n",
        "qry_avg_songs=\"\"\"\n",
        "SELECT Songs.song_id, Songs.title, Songs.artist, AVG(Listens.rating)\n",
        "FROM Songs\n",
        "JOIN Listens ON Songs.song_id = Listens.song_id\n",
        "GROUP BY Songs.song_id, Songs.title, Songs.artist\n",
        "\"\"\"\n",
        "runSql('Highly Rated Songs',qry_avg_songs)\n",
        "\n"
      ]
    },
    {
      "cell_type": "code",
      "execution_count": 15,
      "metadata": {
        "colab": {
          "base_uri": "https://localhost:8080/",
          "height": 225
        },
        "id": "kZ7do5Vid58S",
        "outputId": "d7081489-d0e8-472d-9835-bfca15b59528"
      },
      "outputs": [
        {
          "output_type": "display_data",
          "data": {
            "text/plain": [
              "<IPython.core.display.HTML object>"
            ],
            "text/html": [
              "<b><font color=Green>Popular Songs</font></b><table border=\"1\" class=\"dataframe\">\n",
              "  <thead>\n",
              "    <tr style=\"text-align: right;\">\n",
              "      <th>song_id</th>\n",
              "      <th>title</th>\n",
              "      <th>artist</th>\n",
              "      <th>count(Listens.song_id)</th>\n",
              "    </tr>\n",
              "  </thead>\n",
              "  <tbody>\n",
              "    <tr>\n",
              "      <td>2</td>\n",
              "      <td>Willow</td>\n",
              "      <td>Taylor Swift</td>\n",
              "      <td>3</td>\n",
              "    </tr>\n",
              "    <tr>\n",
              "      <td>1</td>\n",
              "      <td>Evermore</td>\n",
              "      <td>Taylor Swift</td>\n",
              "      <td>2</td>\n",
              "    </tr>\n",
              "    <tr>\n",
              "      <td>6</td>\n",
              "      <td>Yesterday</td>\n",
              "      <td>Beatles</td>\n",
              "      <td>2</td>\n",
              "    </tr>\n",
              "    <tr>\n",
              "      <td>8</td>\n",
              "      <td>Hey Jude</td>\n",
              "      <td>Beatles</td>\n",
              "      <td>1</td>\n",
              "    </tr>\n",
              "    <tr>\n",
              "      <td>7</td>\n",
              "      <td>Yellow Submarine</td>\n",
              "      <td>Beatles</td>\n",
              "      <td>1</td>\n",
              "    </tr>\n",
              "  </tbody>\n",
              "</table>"
            ]
          },
          "metadata": {}
        }
      ],
      "source": [
        "#Find the popular songs by counting the listens\n",
        "\n",
        "qry_pop_songs = \"\"\"\n",
        "SELECT Songs.song_id, Songs.title, Songs.artist, count(Listens.song_id)\n",
        "FROM Songs\n",
        "JOIN Listens\n",
        "ON Songs.song_id=Listens.song_id\n",
        "GROUP BY Songs.title, Songs.artist\n",
        "ORDER BY COUNT(Listens.song_id) DESC;\n",
        "\"\"\"\n",
        "\n",
        "runSql('Popular Songs', qry_pop_songs)"
      ]
    },
    {
      "cell_type": "code",
      "execution_count": 16,
      "metadata": {
        "colab": {
          "base_uri": "https://localhost:8080/",
          "height": 495
        },
        "id": "XcnhWdXBfbvA",
        "outputId": "27217be3-2169-4d22-cd21-c5a16aa37400"
      },
      "outputs": [
        {
          "output_type": "display_data",
          "data": {
            "text/plain": [
              "<IPython.core.display.HTML object>"
            ],
            "text/html": [
              "<b><font color=Green>Songs by Ed Sheeran and Taylor Swift</font></b><table border=\"1\" class=\"dataframe\">\n",
              "  <thead>\n",
              "    <tr style=\"text-align: right;\">\n",
              "      <th>title</th>\n",
              "      <th>artist</th>\n",
              "    </tr>\n",
              "  </thead>\n",
              "  <tbody>\n",
              "    <tr>\n",
              "      <td>Evermore</td>\n",
              "      <td>Taylor Swift</td>\n",
              "    </tr>\n",
              "    <tr>\n",
              "      <td>Willow</td>\n",
              "      <td>Taylor Swift</td>\n",
              "    </tr>\n",
              "    <tr>\n",
              "      <td>Shape of You</td>\n",
              "      <td>Ed Sheeran</td>\n",
              "    </tr>\n",
              "    <tr>\n",
              "      <td>Photograph</td>\n",
              "      <td>Ed Sheeran</td>\n",
              "    </tr>\n",
              "    <tr>\n",
              "      <td>Shivers</td>\n",
              "      <td>Ed Sheeran</td>\n",
              "    </tr>\n",
              "    <tr>\n",
              "      <td>Bad Blood</td>\n",
              "      <td>Taylor Swift</td>\n",
              "    </tr>\n",
              "  </tbody>\n",
              "</table>"
            ]
          },
          "metadata": {}
        },
        {
          "output_type": "display_data",
          "data": {
            "text/plain": [
              "<IPython.core.display.HTML object>"
            ],
            "text/html": [
              "<b><font color=Green>Songs on both Pop and Rock</font></b><table border=\"1\" class=\"dataframe\">\n",
              "  <thead>\n",
              "    <tr style=\"text-align: right;\">\n",
              "      <th>title</th>\n",
              "      <th>artist</th>\n",
              "    </tr>\n",
              "  </thead>\n",
              "  <tbody>\n",
              "    <tr>\n",
              "      <td>Bad Blood</td>\n",
              "      <td>Taylor Swift</td>\n",
              "    </tr>\n",
              "    <tr>\n",
              "      <td>Evermore</td>\n",
              "      <td>Taylor Swift</td>\n",
              "    </tr>\n",
              "    <tr>\n",
              "      <td>Photograph</td>\n",
              "      <td>Ed Sheeran</td>\n",
              "    </tr>\n",
              "    <tr>\n",
              "      <td>Shape of You</td>\n",
              "      <td>Ed Sheeran</td>\n",
              "    </tr>\n",
              "    <tr>\n",
              "      <td>Shivers</td>\n",
              "      <td>Ed Sheeran</td>\n",
              "    </tr>\n",
              "    <tr>\n",
              "      <td>Willow</td>\n",
              "      <td>Taylor Swift</td>\n",
              "    </tr>\n",
              "  </tbody>\n",
              "</table>"
            ]
          },
          "metadata": {}
        }
      ],
      "source": [
        "#Find songs by Ed Sheeran and Taylor Swift\n",
        "\n",
        "qry_edtaylor=\"\"\"\n",
        "SELECT title, artist\n",
        "FROM Songs\n",
        "WHERE artist IN ('Ed Sheeran', 'Taylor Swift');\n",
        "\"\"\"\n",
        "runSql('Songs by Ed Sheeran and Taylor Swift', qry_edtaylor)\n",
        "\n",
        "#Find songs from both pop and rock genres\n",
        "\n",
        "qry_popandrock = \"\"\"\n",
        "SELECT title, artist\n",
        "FROM Songs\n",
        "WHERE genre='Pop'\n",
        "UNION\n",
        "SELECT title, artist\n",
        "FROM Songs\n",
        "WHERE genre='Rock'\n",
        "\"\"\"\n",
        "runSql('Songs on both Pop and Rock', qry_popandrock)\n"
      ]
    },
    {
      "cell_type": "code",
      "execution_count": 17,
      "metadata": {
        "colab": {
          "base_uri": "https://localhost:8080/",
          "height": 162
        },
        "id": "I9tVVcvAgsvQ",
        "outputId": "b636628d-7650-4dac-f2f3-aca1023842aa"
      },
      "outputs": [
        {
          "output_type": "display_data",
          "data": {
            "text/plain": [
              "<IPython.core.display.HTML object>"
            ],
            "text/html": [
              "<b><font color=Green>Songs listened by user_id=1</font></b><table border=\"1\" class=\"dataframe\">\n",
              "  <thead>\n",
              "    <tr style=\"text-align: right;\">\n",
              "      <th>title</th>\n",
              "      <th>artist</th>\n",
              "    </tr>\n",
              "  </thead>\n",
              "  <tbody>\n",
              "    <tr>\n",
              "      <td>Evermore</td>\n",
              "      <td>Taylor Swift</td>\n",
              "    </tr>\n",
              "    <tr>\n",
              "      <td>Willow</td>\n",
              "      <td>Taylor Swift</td>\n",
              "    </tr>\n",
              "    <tr>\n",
              "      <td>Yesterday</td>\n",
              "      <td>Beatles</td>\n",
              "    </tr>\n",
              "  </tbody>\n",
              "</table>"
            ]
          },
          "metadata": {}
        }
      ],
      "source": [
        "#Find songs listened to by user_id 1\n",
        "\n",
        "qry_listen_usr=\"\"\"\n",
        "SELECT title, artist\n",
        "FROM Songs\n",
        "WHERE song_id IN (SELECT song_id FROM Listens WHERE Listens.listen_time IS NULL);\n",
        "\"\"\"\n",
        "runSql('Songs listened by user_id=1',qry_listen_usr)"
      ]
    },
    {
      "cell_type": "code",
      "execution_count": 18,
      "metadata": {
        "colab": {
          "base_uri": "https://localhost:8080/",
          "height": 130
        },
        "id": "vudHinsaiRoD",
        "outputId": "8bc95f5f-7535-401c-bc36-c821bcfdb8f2"
      },
      "outputs": [
        {
          "output_type": "display_data",
          "data": {
            "text/plain": [
              "<IPython.core.display.HTML object>"
            ],
            "text/html": [
              "<b><font color=Green>Songs shared</font></b><table border=\"1\" class=\"dataframe\">\n",
              "  <thead>\n",
              "    <tr style=\"text-align: right;\">\n",
              "      <th>user_id</th>\n",
              "      <th>song_id</th>\n",
              "    </tr>\n",
              "  </thead>\n",
              "  <tbody>\n",
              "    <tr>\n",
              "      <td>2</td>\n",
              "      <td>1</td>\n",
              "    </tr>\n",
              "    <tr>\n",
              "      <td>2</td>\n",
              "      <td>6</td>\n",
              "    </tr>\n",
              "  </tbody>\n",
              "</table>"
            ]
          },
          "metadata": {}
        }
      ],
      "source": [
        "#Computing the recommendations\n",
        "#Find the song pairs which are shared across > 1 user\n",
        "\n",
        "qry_sharing=\"\"\"\n",
        "WITH song_similarity AS (\n",
        "SELECT u1.song_id as song1, u2.song_id as song2, COUNT(*) AS common_users\n",
        "FROM LISTENS u1\n",
        "JOIN LISTENS u2\n",
        "ON u1.user_id=u2.user_id\n",
        "AND u1.song_id != u2.song_id\n",
        "GROUP BY u1.song_id, u2.song_id\n",
        "HAVING COUNT(*)>1\n",
        "),\n",
        "\n",
        "recs AS (\n",
        "  SELECT user_id, song2 as song_id\n",
        "  FROM song_similarity\n",
        "  JOIN Listens as L\n",
        "  ON L.song_id = song_similarity.song1\n",
        "  WHERE song_similarity.song2 NOT IN\n",
        "  (SELECT song_id FROM Listens as temp where temp.user_id=L.user_id)\n",
        ")\n",
        "select * from recs;\n",
        "\"\"\"\n",
        "runSql('Songs shared', qry_sharing)"
      ]
    },
    {
      "cell_type": "markdown",
      "source": [
        "### **From here the Assignment 1 starts**"
      ],
      "metadata": {
        "id": "Y_InEYmBfx4i"
      }
    },
    {
      "cell_type": "code",
      "source": [
        "#Insert the above into the recommendations table\n",
        "\n",
        "qry_insert_recs = \"\"\"\n",
        "INSERT INTO Recommendations (recommendation_id, user_id, song_id, recommendation_time)\n",
        "WITH song_similarity AS (\n",
        "  -- Find pairs of songs listened to by more than one user\n",
        "  SELECT\n",
        "    u1.song_id as song1,\n",
        "    u2.song_id as song2\n",
        "  FROM Listens u1\n",
        "  JOIN Listens u2 ON u1.user_id = u2.user_id AND u1.song_id != u2.song_id\n",
        "  GROUP BY\n",
        "    u1.song_id, u2.song_id\n",
        "  HAVING\n",
        "    COUNT(DISTINCT u1.user_id) > 1\n",
        "),\n",
        "potential_recs AS (\n",
        "  -- Find recommendations for users\n",
        "  SELECT DISTINCT\n",
        "    l.user_id,\n",
        "    ss.song2 as song_id\n",
        "  FROM song_similarity ss\n",
        "  -- Join with all listens to find users who have listened to one song in the pair\n",
        "  JOIN Listens l ON l.song_id = ss.song1\n",
        "  -- Exclude songs the user has already listened to\n",
        "  WHERE\n",
        "    ss.song2 NOT IN (SELECT song_id FROM Listens WHERE user_id = l.user_id)\n",
        ")\n",
        "-- Select the recommendations and generate a new ID and timestamp\n",
        "SELECT\n",
        "  (SELECT COALESCE(MAX(recommendation_id), 0) FROM Recommendations) + ROW_NUMBER() OVER () as recommendation_id,\n",
        "  user_id,\n",
        "  song_id,\n",
        "  strftime('%Y-%m-%d %H:%M:%S', 'now') as recommendation_time\n",
        "FROM potential_recs;\n",
        "\"\"\"\n",
        "\n",
        "\n",
        "conn = sqlite3.connect(dbname)\n",
        "cursor = conn.cursor()\n",
        "cursor.execute(\"DELETE FROM Recommendations;\")\n",
        "\n",
        "cursor.execute(qry_insert_recs)\n",
        "conn.commit()\n",
        "conn.close()\n",
        "\n",
        "runSql('Data in Recommendations Table', \"SELECT * FROM Recommendations;\")"
      ],
      "metadata": {
        "colab": {
          "base_uri": "https://localhost:8080/",
          "height": 130
        },
        "id": "O1jVxt6hj4iR",
        "outputId": "73ee42a8-9fd7-455a-ab05-31648619bbac"
      },
      "execution_count": 30,
      "outputs": [
        {
          "output_type": "display_data",
          "data": {
            "text/plain": [
              "<IPython.core.display.HTML object>"
            ],
            "text/html": [
              "<b><font color=Green>Data in Recommendations Table</font></b><table border=\"1\" class=\"dataframe\">\n",
              "  <thead>\n",
              "    <tr style=\"text-align: right;\">\n",
              "      <th>recommendation_id</th>\n",
              "      <th>recommendation_time</th>\n",
              "      <th>user_id</th>\n",
              "      <th>song_id</th>\n",
              "    </tr>\n",
              "  </thead>\n",
              "  <tbody>\n",
              "    <tr>\n",
              "      <td>1</td>\n",
              "      <td>2025-06-23 16:24:58</td>\n",
              "      <td>2</td>\n",
              "      <td>1</td>\n",
              "    </tr>\n",
              "    <tr>\n",
              "      <td>2</td>\n",
              "      <td>2025-06-23 16:24:58</td>\n",
              "      <td>2</td>\n",
              "      <td>6</td>\n",
              "    </tr>\n",
              "  </tbody>\n",
              "</table>"
            ]
          },
          "metadata": {}
        }
      ]
    },
    {
      "cell_type": "code",
      "source": [
        "# Generate the recommendations for Minnie\n",
        "qry_minnie_recs = \"\"\"\n",
        "SELECT\n",
        "  u.name,\n",
        "  s.title,\n",
        "  s.artist\n",
        "FROM Recommendations r\n",
        "JOIN Users u ON r.user_id = u.user_id\n",
        "JOIN Songs s ON r.song_id = s.song_id\n",
        "WHERE u.name = 'Minnie';\n",
        "\"\"\"\n",
        "runSql(\"Recommendations for Minnie\", qry_minnie_recs)"
      ],
      "metadata": {
        "colab": {
          "base_uri": "https://localhost:8080/",
          "height": 130
        },
        "id": "p3b-yCEulVN9",
        "outputId": "c37cfffd-7dac-44bf-b534-946787893d2d"
      },
      "execution_count": 31,
      "outputs": [
        {
          "output_type": "display_data",
          "data": {
            "text/plain": [
              "<IPython.core.display.HTML object>"
            ],
            "text/html": [
              "<b><font color=Green>Recommendations for Minnie</font></b><table border=\"1\" class=\"dataframe\">\n",
              "  <thead>\n",
              "    <tr style=\"text-align: right;\">\n",
              "      <th>name</th>\n",
              "      <th>title</th>\n",
              "      <th>artist</th>\n",
              "    </tr>\n",
              "  </thead>\n",
              "  <tbody>\n",
              "    <tr>\n",
              "      <td>Minnie</td>\n",
              "      <td>Evermore</td>\n",
              "      <td>Taylor Swift</td>\n",
              "    </tr>\n",
              "    <tr>\n",
              "      <td>Minnie</td>\n",
              "      <td>Yesterday</td>\n",
              "      <td>Beatles</td>\n",
              "    </tr>\n",
              "  </tbody>\n",
              "</table>"
            ]
          },
          "metadata": {}
        }
      ]
    },
    {
      "cell_type": "code",
      "source": [
        "# Re-do the generation of recommendations now on the basis of listen time\n",
        "\n",
        "qry_recs_by_sameday = \"\"\"\n",
        "WITH same_day_listens AS (\n",
        "  -- Step 1: Find pairs of songs listened to by DIFFERENT users on the SAME DAY.\n",
        "  SELECT\n",
        "    l1.user_id AS user1_id,\n",
        "    l1.song_id AS song1_id,\n",
        "    l2.user_id AS user2_id,\n",
        "    l2.song_id AS song2_id\n",
        "  FROM Listens l1\n",
        "  JOIN Listens l2 ON\n",
        "    -- Find listens on the same day\n",
        "    date(l1.listen_time) = date(l2.listen_time)\n",
        "    -- Ensure we are comparing listens from two different users\n",
        "    AND l1.user_id != l2.user_id\n",
        "  WHERE\n",
        "    -- Only consider listens with a valid timestamp\n",
        "    l1.listen_time IS NOT NULL AND l2.listen_time IS NOT NULL\n",
        "),\n",
        "potential_recs AS (\n",
        "  -- Step 2: From the pairs, determine potential recommendations.\n",
        "  -- If user1 listened to song1, then song2 (listened to by user2) is a recommendation for user1.\n",
        "  SELECT DISTINCT\n",
        "    sdl.user1_id as user_id,\n",
        "    sdl.song2_id as song_id\n",
        "  FROM same_day_listens sdl\n",
        "  -- Step 3: Filter out songs that the user has already listened to.\n",
        "  WHERE\n",
        "    sdl.song2_id NOT IN (SELECT song_id FROM Listens WHERE user_id = sdl.user1_id)\n",
        ")\n",
        "-- Final selection of distinct user-song recommendations\n",
        "SELECT * FROM potential_recs;\n",
        "\n",
        "\"\"\"\n",
        "runSql(\"New Recommendations Based on Same-Day Listens\", qry_recs_by_sameday)"
      ],
      "metadata": {
        "colab": {
          "base_uri": "https://localhost:8080/",
          "height": 68
        },
        "id": "yLo6dlxJmcFI",
        "outputId": "cf37546c-b6d6-4217-b212-98aecd5704f0"
      },
      "execution_count": 35,
      "outputs": [
        {
          "output_type": "display_data",
          "data": {
            "text/plain": [
              "<IPython.core.display.HTML object>"
            ],
            "text/html": [
              "<b><font color=Green>New Recommendations Based on Same-Day Listens</font></b><table border=\"1\" class=\"dataframe\">\n",
              "  <thead>\n",
              "    <tr style=\"text-align: right;\">\n",
              "      <th>user_id</th>\n",
              "      <th>song_id</th>\n",
              "    </tr>\n",
              "  </thead>\n",
              "  <tbody>\n",
              "  </tbody>\n",
              "</table>"
            ]
          },
          "metadata": {}
        }
      ]
    },
    {
      "cell_type": "code",
      "source": [],
      "metadata": {
        "id": "fx2YnSqInROv"
      },
      "execution_count": null,
      "outputs": []
    }
  ],
  "metadata": {
    "colab": {
      "provenance": []
    },
    "kernelspec": {
      "display_name": "Python 3",
      "name": "python3"
    },
    "language_info": {
      "name": "python"
    }
  },
  "nbformat": 4,
  "nbformat_minor": 0
}